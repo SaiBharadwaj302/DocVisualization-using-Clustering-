{
 "cells": [
  {
   "cell_type": "code",
   "execution_count": 1,
   "metadata": {},
   "outputs": [
    {
     "name": "stdout",
     "output_type": "stream",
     "text": [
      "Clustering complete. Results saved in document_clusters.json\n"
     ]
    }
   ],
   "source": [
    "import json\n",
    "from sklearn.feature_extraction.text import TfidfVectorizer\n",
    "from sklearn.cluster import AgglomerativeClustering\n",
    "import os\n",
    "\n",
    "# Load documents from the \"dataset\" folder\n",
    "documents = {}\n",
    "for filename in os.listdir(\"dataset/dataset\"):\n",
    "    with open(os.path.join(\"dataset/dataset\", filename), \"r\", encoding=\"utf-8\") as file:\n",
    "        documents[filename] = file.read()\n",
    "\n",
    "# Extract features using TfidfVectorizer\n",
    "vectorizer = TfidfVectorizer(stop_words=\"english\", max_features=1000)\n",
    "X = vectorizer.fit_transform(documents.values())\n",
    "\n",
    "# Cluster the documents using Agglomerative (hierarchical) clustering\n",
    "n_clusters = 7  # Adjust based on your dataset\n",
    "agg_clustering = AgglomerativeClustering(n_clusters=n_clusters)\n",
    "labels = agg_clustering.fit_predict(X.toarray())\n",
    "\n",
    "# Output clustering result as JSON\n",
    "clusters = {}\n",
    "for doc_id, label in zip(documents.keys(), labels):\n",
    "    clusters.setdefault(int(label), []).append(doc_id)\n",
    "\n",
    "with open(\"document_clusters1.json\", \"w\") as f:\n",
    "    json.dump(clusters, f, indent=2)\n",
    "\n",
    "print(\"Clustering complete. Results saved in document_clusters.json\")"
   ]
  },
  {
   "cell_type": "code",
   "execution_count": 2,
   "metadata": {},
   "outputs": [
    {
     "name": "stdout",
     "output_type": "stream",
     "text": [
      "Biclustering complete. Results saved in document_clusters_biclustering.json\n"
     ]
    },
    {
     "name": "stderr",
     "output_type": "stream",
     "text": [
      "c:\\Users\\saibu\\anaconda3\\lib\\site-packages\\sklearn\\cluster\\_kmeans.py:1429: UserWarning: KMeans is known to have a memory leak on Windows with MKL, when there are less chunks than available threads. You can avoid it by setting the environment variable OMP_NUM_THREADS=5.\n",
      "  warnings.warn(\n"
     ]
    }
   ],
   "source": [
    "import json\n",
    "from sklearn.feature_extraction.text import TfidfVectorizer\n",
    "from sklearn.cluster import SpectralCoclustering\n",
    "import os\n",
    "import numpy as np\n",
    "\n",
    "# Load documents from the \"dataset\" folder\n",
    "documents = {}\n",
    "for filename in os.listdir(\"dataset/dataset\"):\n",
    "    with open(os.path.join(\"dataset/dataset\", filename), \"r\", encoding=\"utf-8\") as file:\n",
    "        documents[filename] = file.read()\n",
    "\n",
    "# Extract features using TfidfVectorizer\n",
    "vectorizer = TfidfVectorizer(stop_words=\"english\", max_features=1000)\n",
    "X = vectorizer.fit_transform(documents.values())\n",
    "\n",
    "# Perform biclustering with Spectral Coclustering\n",
    "n_clusters = 7  # Adjust based on your dataset\n",
    "model = SpectralCoclustering(n_clusters=n_clusters, random_state=42)\n",
    "model.fit(X.toarray())\n",
    "\n",
    "# Each document is assigned to a cluster (stored in model.row_labels_)\n",
    "doc_ids = list(documents.keys())\n",
    "labels = model.row_labels_\n",
    "\n",
    "# Group documents by their assigned cluster\n",
    "clusters = {}\n",
    "for doc_id, label in zip(doc_ids, labels):\n",
    "    clusters.setdefault(int(label), []).append(doc_id)\n",
    "\n",
    "with open(\"document_clusters_biclustering.json\", \"w\") as f:\n",
    "    json.dump(clusters, f, indent=2)\n",
    "\n",
    "print(\"Biclustering complete. Results saved in document_clusters_biclustering.json\")"
   ]
  },
  {
   "cell_type": "code",
   "execution_count": 3,
   "metadata": {},
   "outputs": [
    {
     "name": "stdout",
     "output_type": "stream",
     "text": [
      "KMeans clustering complete. Results saved in document_clusters_kmeans.json\n"
     ]
    }
   ],
   "source": [
    "import json\n",
    "from sklearn.feature_extraction.text import TfidfVectorizer\n",
    "from sklearn.cluster import KMeans\n",
    "import os\n",
    "\n",
    "# Load documents from the \"dataset\" folder\n",
    "documents = {}\n",
    "for filename in os.listdir(\"dataset/dataset\"):\n",
    "    with open(os.path.join(\"dataset/dataset\", filename), \"r\", encoding=\"utf-8\") as file:\n",
    "        documents[filename] = file.read()\n",
    "\n",
    "# Extract features using TfidfVectorizer\n",
    "vectorizer = TfidfVectorizer(stop_words=\"english\", max_features=1000)\n",
    "X = vectorizer.fit_transform(documents.values())\n",
    "\n",
    "# Perform clustering with KMeans\n",
    "n_clusters = 7  # Adjust the number of clusters as needed\n",
    "kmeans = KMeans(n_clusters=n_clusters, random_state=42)\n",
    "labels = kmeans.fit_predict(X)\n",
    "\n",
    "# Each document is assigned a cluster label; group documents by cluster\n",
    "doc_ids = list(documents.keys())\n",
    "clusters = {}\n",
    "for doc_id, label in zip(doc_ids, labels):\n",
    "    clusters.setdefault(int(label), []).append(doc_id)\n",
    "\n",
    "with open(\"document_clusters_kmeans.json\", \"w\") as f:\n",
    "    json.dump(clusters, f, indent=2)\n",
    "\n",
    "print(\"KMeans clustering complete. Results saved in document_clusters_kmeans.json\")"
   ]
  }
 ],
 "metadata": {
  "kernelspec": {
   "display_name": "base",
   "language": "python",
   "name": "python3"
  },
  "language_info": {
   "codemirror_mode": {
    "name": "ipython",
    "version": 3
   },
   "file_extension": ".py",
   "mimetype": "text/x-python",
   "name": "python",
   "nbconvert_exporter": "python",
   "pygments_lexer": "ipython3",
   "version": "3.9.7"
  }
 },
 "nbformat": 4,
 "nbformat_minor": 2
}
